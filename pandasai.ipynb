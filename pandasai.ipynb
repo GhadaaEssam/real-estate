{
 "cells": [
  {
   "cell_type": "markdown",
   "metadata": {},
   "source": [
    "# **Data analysis using PandasAI library**"
   ]
  },
  {
   "cell_type": "markdown",
   "metadata": {},
   "source": [
    "## First: Connecting to Azure SQL database"
   ]
  },
  {
   "cell_type": "markdown",
   "metadata": {},
   "source": [
    "### Establishing connection using pyodbc library"
   ]
  },
  {
   "cell_type": "code",
   "execution_count": 2,
   "metadata": {},
   "outputs": [
    {
     "name": "stdout",
     "output_type": "stream",
     "text": [
      "Successfully connected to database!\n"
     ]
    }
   ],
   "source": [
    "import pyodbc\n",
    "\n",
    "# Connection parameters\n",
    "server = ''\n",
    "database = ''\n",
    "username = ''\n",
    "password = ''\n",
    "\n",
    "# Create connection string\n",
    "conn_str = (\n",
    "    'DRIVER={SQL Server};'\n",
    "    f'SERVER={server};'\n",
    "    f'DATABASE={database};'\n",
    "    f'UID={username};'\n",
    "    f'PWD={password}'\n",
    ")\n",
    "\n",
    "try:\n",
    "    # Establish connection\n",
    "    conn = pyodbc.connect(conn_str)\n",
    "    print(\"Successfully connected to database!\")\n",
    "    \n",
    "except Exception as e:\n",
    "    print(f\"Error connecting to database: {str(e)}\")"
   ]
  },
  {
   "cell_type": "markdown",
   "metadata": {},
   "source": [
    "### Inseting tables into dataframes"
   ]
  },
  {
   "cell_type": "code",
   "execution_count": 4,
   "metadata": {},
   "outputs": [
    {
     "name": "stderr",
     "output_type": "stream",
     "text": [
      "C:\\Users\\Hp\\AppData\\Local\\Temp\\ipykernel_16004\\1326421818.py:19: UserWarning: pandas only supports SQLAlchemy connectable (engine/connection) or database string URI or sqlite3 DBAPI2 connection. Other DBAPI2 objects are not tested. Please consider using SQLAlchemy.\n",
      "  dfs[table_name] = pd.read_sql_query(query, conn)\n"
     ]
    },
    {
     "name": "stdout",
     "output_type": "stream",
     "text": [
      "Successfully loaded properties table\n",
      "Successfully loaded visits table\n",
      "Successfully loaded agents table\n",
      "Successfully loaded clients table\n",
      "Successfully loaded sales table\n"
     ]
    }
   ],
   "source": [
    "import pandas as pd\n",
    "\n",
    "# SQL queries to fetch different tables\n",
    "queries = {\n",
    "    'properties': 'SELECT * FROM Properties',\n",
    "    'visits': 'SELECT * FROM Visits',\n",
    "    'agents': 'SELECT * FROM Agents',\n",
    "    'clients': 'SELECT * FROM Clients',\n",
    "    'sales': 'SELECT * FROM Sales'\n",
    "}\n",
    "\n",
    "# Dictionary to store dataframes\n",
    "dfs = {}\n",
    "\n",
    "\n",
    "try:\n",
    "    # Fetch each table into a dataframe\n",
    "    for table_name, query in queries.items():\n",
    "        dfs[table_name] = pd.read_sql_query(query, conn)\n",
    "        print(f\"Successfully loaded {table_name} table\")\n",
    "        \n",
    "    # Create individual dataframes for easier access\n",
    "    properties = dfs['properties']\n",
    "    visits = dfs['visits'] \n",
    "    agents = dfs['agents']\n",
    "    clients = dfs['clients']\n",
    "    sales = dfs['sales']\n",
    "    \n",
    "except Exception as e:\n",
    "    print(f\"Error fetching data: {str(e)}\")\n"
   ]
  },
  {
   "cell_type": "markdown",
   "metadata": {},
   "source": [
    "## Second: Data preprocessing"
   ]
  },
  {
   "cell_type": "markdown",
   "metadata": {},
   "source": [
    "### Converting dates to datetime"
   ]
  },
  {
   "cell_type": "code",
   "execution_count": 5,
   "metadata": {},
   "outputs": [],
   "source": [
    "sales['SaleDate'] = pd.to_datetime(sales['SaleDate'])\n",
    "visits['VisitDate'] = pd.to_datetime(visits['VisitDate'])"
   ]
  },
  {
   "cell_type": "markdown",
   "metadata": {},
   "source": [
    "### Merging data frames"
   ]
  },
  {
   "cell_type": "code",
   "execution_count": 6,
   "metadata": {},
   "outputs": [],
   "source": [
    "df = sales.merge(properties, on='PropertyID', how='left')"
   ]
  },
  {
   "cell_type": "code",
   "execution_count": 7,
   "metadata": {},
   "outputs": [],
   "source": [
    "agent_sales = sales.groupby('AgentID').size().reset_index(name='AgentTotalSales')\n",
    "df = df.merge(agent_sales, on='AgentID', how='left')"
   ]
  },
  {
   "cell_type": "code",
   "execution_count": 8,
   "metadata": {},
   "outputs": [],
   "source": [
    "client_purchases = sales.groupby('ClientID').size().reset_index(name='PreviousPurchases')\n",
    "df = df.merge(client_purchases, on='ClientID', how='left')"
   ]
  },
  {
   "cell_type": "code",
   "execution_count": 9,
   "metadata": {},
   "outputs": [
    {
     "data": {
      "text/html": [
       "<div>\n",
       "<style scoped>\n",
       "    .dataframe tbody tr th:only-of-type {\n",
       "        vertical-align: middle;\n",
       "    }\n",
       "\n",
       "    .dataframe tbody tr th {\n",
       "        vertical-align: top;\n",
       "    }\n",
       "\n",
       "    .dataframe thead th {\n",
       "        text-align: right;\n",
       "    }\n",
       "</style>\n",
       "<table border=\"1\" class=\"dataframe\">\n",
       "  <thead>\n",
       "    <tr style=\"text-align: right;\">\n",
       "      <th></th>\n",
       "      <th>SaleID</th>\n",
       "      <th>PropertyID</th>\n",
       "      <th>ClientID</th>\n",
       "      <th>AgentID</th>\n",
       "      <th>SaleDate</th>\n",
       "      <th>SalePrice</th>\n",
       "      <th>PropertyType</th>\n",
       "      <th>Location</th>\n",
       "      <th>Size_sqm</th>\n",
       "      <th>PriceUSD</th>\n",
       "      <th>AgentTotalSales</th>\n",
       "      <th>PreviousPurchases</th>\n",
       "    </tr>\n",
       "  </thead>\n",
       "  <tbody>\n",
       "    <tr>\n",
       "      <th>0</th>\n",
       "      <td>1</td>\n",
       "      <td>891</td>\n",
       "      <td>291</td>\n",
       "      <td>70</td>\n",
       "      <td>2025-02-27</td>\n",
       "      <td>581152</td>\n",
       "      <td>Warehouse</td>\n",
       "      <td>Los Angeles</td>\n",
       "      <td>88</td>\n",
       "      <td>876734</td>\n",
       "      <td>18</td>\n",
       "      <td>1</td>\n",
       "    </tr>\n",
       "    <tr>\n",
       "      <th>1</th>\n",
       "      <td>2</td>\n",
       "      <td>886</td>\n",
       "      <td>1354</td>\n",
       "      <td>93</td>\n",
       "      <td>2024-07-12</td>\n",
       "      <td>801724</td>\n",
       "      <td>Retail</td>\n",
       "      <td>Miami</td>\n",
       "      <td>306</td>\n",
       "      <td>185170</td>\n",
       "      <td>28</td>\n",
       "      <td>3</td>\n",
       "    </tr>\n",
       "    <tr>\n",
       "      <th>2</th>\n",
       "      <td>3</td>\n",
       "      <td>372</td>\n",
       "      <td>702</td>\n",
       "      <td>43</td>\n",
       "      <td>2024-01-08</td>\n",
       "      <td>828974</td>\n",
       "      <td>Warehouse</td>\n",
       "      <td>New York</td>\n",
       "      <td>115</td>\n",
       "      <td>487971</td>\n",
       "      <td>21</td>\n",
       "      <td>1</td>\n",
       "    </tr>\n",
       "    <tr>\n",
       "      <th>3</th>\n",
       "      <td>4</td>\n",
       "      <td>505</td>\n",
       "      <td>1269</td>\n",
       "      <td>19</td>\n",
       "      <td>2024-12-06</td>\n",
       "      <td>1380483</td>\n",
       "      <td>Apartment</td>\n",
       "      <td>Houston</td>\n",
       "      <td>93</td>\n",
       "      <td>961902</td>\n",
       "      <td>17</td>\n",
       "      <td>2</td>\n",
       "    </tr>\n",
       "    <tr>\n",
       "      <th>4</th>\n",
       "      <td>5</td>\n",
       "      <td>130</td>\n",
       "      <td>280</td>\n",
       "      <td>63</td>\n",
       "      <td>2025-01-06</td>\n",
       "      <td>159459</td>\n",
       "      <td>Office</td>\n",
       "      <td>Los Angeles</td>\n",
       "      <td>431</td>\n",
       "      <td>160892</td>\n",
       "      <td>23</td>\n",
       "      <td>1</td>\n",
       "    </tr>\n",
       "  </tbody>\n",
       "</table>\n",
       "</div>"
      ],
      "text/plain": [
       "   SaleID  PropertyID  ClientID  AgentID   SaleDate  SalePrice PropertyType  \\\n",
       "0       1         891       291       70 2025-02-27     581152    Warehouse   \n",
       "1       2         886      1354       93 2024-07-12     801724       Retail   \n",
       "2       3         372       702       43 2024-01-08     828974    Warehouse   \n",
       "3       4         505      1269       19 2024-12-06    1380483    Apartment   \n",
       "4       5         130       280       63 2025-01-06     159459       Office   \n",
       "\n",
       "      Location  Size_sqm  PriceUSD  AgentTotalSales  PreviousPurchases  \n",
       "0  Los Angeles        88    876734               18                  1  \n",
       "1        Miami       306    185170               28                  3  \n",
       "2     New York       115    487971               21                  1  \n",
       "3      Houston        93    961902               17                  2  \n",
       "4  Los Angeles       431    160892               23                  1  "
      ]
     },
     "execution_count": 9,
     "metadata": {},
     "output_type": "execute_result"
    }
   ],
   "source": [
    "df.head()"
   ]
  },
  {
   "cell_type": "markdown",
   "metadata": {},
   "source": [
    "## Third: Started using PandasAI"
   ]
  },
  {
   "cell_type": "code",
   "execution_count": 3,
   "metadata": {},
   "outputs": [
    {
     "name": "stdout",
     "output_type": "stream",
     "text": [
      "Note: you may need to restart the kernel to use updated packages.\n"
     ]
    }
   ],
   "source": [
    "pip install pandasai>=3.0.0b2"
   ]
  },
  {
   "cell_type": "code",
   "execution_count": null,
   "metadata": {},
   "outputs": [],
   "source": [
    "import pandasai as pai\n",
    "\n",
    "sales_data = pai.DataFrame(df)\n",
    "\n",
    "pai.api_key.set(\"PAI-e0b88c40-877f-4530-abf9-f9b34f076f2e\")"
   ]
  },
  {
   "cell_type": "code",
   "execution_count": 21,
   "metadata": {},
   "outputs": [],
   "source": [
    "prop_pai = pai.DataFrame(properties)\n",
    "age_pai = pai.DataFrame(agents)\n",
    "vis_pai = pai.DataFrame(visits)\n",
    "cli_pai = pai.DataFrame(clients)"
   ]
  },
  {
   "cell_type": "markdown",
   "metadata": {},
   "source": [
    "### **Analysis about properties table**"
   ]
  },
  {
   "cell_type": "code",
   "execution_count": 17,
   "metadata": {},
   "outputs": [
    {
     "data": {
      "text/plain": [
       "DataFrameResponse(type='dataframe', value=      Location PropertyType  Count\n",
       "0      Chicago       Retail     46\n",
       "1      Houston    Warehouse     45\n",
       "2  Los Angeles    Warehouse     46\n",
       "3        Miami    Apartment     55\n",
       "4     New York       Office     52)"
      ]
     },
     "execution_count": 17,
     "metadata": {},
     "output_type": "execute_result"
    }
   ],
   "source": [
    "prop_pai.chat(\"what is the most repeated propertytype in each location?\")"
   ]
  },
  {
   "cell_type": "code",
   "execution_count": 19,
   "metadata": {},
   "outputs": [
    {
     "data": {
      "text/plain": [
       "ChartResponse(type='chart', value='exports\\\\charts\\\\temp_chart_0874154c-caea-4f8f-ad39-de79c3a7b59b.png')"
      ]
     },
     "execution_count": 19,
     "metadata": {},
     "output_type": "execute_result"
    },
    {
     "data": {
      "image/png": "[encoded data removed]",
      "text/plain": [
       "<Figure size 1000x600 with 1 Axes>"
      ]
     },
     "metadata": {},
     "output_type": "display_data"
    }
   ],
   "source": [
    "prop_pai.chat(\"create a pie chart of property types\")"
   ]
  },
  {
   "cell_type": "markdown",
   "metadata": {},
   "source": [
    "### **Analysis about visits table**"
   ]
  },
  {
   "cell_type": "code",
   "execution_count": 27,
   "metadata": {},
   "outputs": [
    {
     "data": {
      "text/plain": [
       "ChartResponse(type='chart', value='exports\\\\charts\\\\temp_chart_2a01ab9b-9c60-4640-a543-2c86d0f2fa7d.png')"
      ]
     },
     "execution_count": 27,
     "metadata": {},
     "output_type": "execute_result"
    },
    {
     "data": {
      "image/png": "[encoded data removed]",
      "text/plain": [
       "<Figure size 1000x600 with 1 Axes>"
      ]
     },
     "metadata": {},
     "output_type": "display_data"
    }
   ],
   "source": [
    "vis_pai.chat(\"make a visual of number of visits per month\")"
   ]
  },
  {
   "cell_type": "code",
   "execution_count": 29,
   "metadata": {},
   "outputs": [
    {
     "data": {
      "text/plain": [
       "DataFrameResponse(type='dataframe', value=   ClientID  TotalVisits\n",
       "0      1002           10\n",
       "1       808            9\n",
       "2       105            9\n",
       "3       860            9\n",
       "4      1171            9)"
      ]
     },
     "execution_count": 29,
     "metadata": {},
     "output_type": "execute_result"
    }
   ],
   "source": [
    "vis_pai.chat(\"top 5 clients with the most visits?\")"
   ]
  },
  {
   "cell_type": "code",
   "execution_count": 30,
   "metadata": {},
   "outputs": [
    {
     "data": {
      "text/plain": [
       "DataFrameResponse(type='dataframe', value=   AgentID  TotalVisits\n",
       "0       15           66\n",
       "1       23           66\n",
       "2       40           64\n",
       "3       93           64\n",
       "4       92           63)"
      ]
     },
     "execution_count": 30,
     "metadata": {},
     "output_type": "execute_result"
    }
   ],
   "source": [
    "vis_pai.chat(\"top 5 agents with the most visits\")"
   ]
  },
  {
   "cell_type": "markdown",
   "metadata": {},
   "source": [
    "### **Analysis about the merged datframe of sales**"
   ]
  },
  {
   "cell_type": "code",
   "execution_count": null,
   "metadata": {},
   "outputs": [
    {
     "data": {
      "text/plain": [
       "DataFrameResponse(type='dataframe', value=  PropertyType   AvgSalePrice\n",
       "0    Warehouse  800097.667647\n",
       "1        Villa  762813.474299\n",
       "2       Retail  766495.681698\n",
       "3       Office  777720.309859\n",
       "4    Apartment  750744.238000)"
      ]
     },
     "execution_count": 13,
     "metadata": {},
     "output_type": "execute_result"
    }
   ],
   "source": [
    "df_pai = pai.DataFrame(df)\n",
    "\n",
    "df_pai.chat(\"what is the average salePrice for each propertytype?\")"
   ]
  },
  {
   "cell_type": "code",
   "execution_count": 25,
   "metadata": {},
   "outputs": [
    {
     "data": {
      "text/plain": [
       "DataFrameResponse(type='dataframe', value=      Location  HighestSalePrice  ClientID\n",
       "0     New York           1499822       702\n",
       "1        Miami           1499784      1354\n",
       "2      Houston           1498484      1269\n",
       "3      Chicago           1497272      1471\n",
       "4  Los Angeles           1493213       291)"
      ]
     },
     "execution_count": 25,
     "metadata": {},
     "output_type": "execute_result"
    }
   ],
   "source": [
    "df_pai.chat(\"who is the client with the highest saleprice in each location?\")"
   ]
  }
 ],
 "metadata": {
  "kernelspec": {
   "display_name": "Python 3",
   "language": "python",
   "name": "python3"
  },
  "language_info": {
   "codemirror_mode": {
    "name": "ipython",
    "version": 3
   },
   "file_extension": ".py",
   "mimetype": "text/x-python",
   "name": "python",
   "nbconvert_exporter": "python",
   "pygments_lexer": "ipython3",
   "version": "3.11.0"
  }
 },
 "nbformat": 4,
 "nbformat_minor": 2
}
